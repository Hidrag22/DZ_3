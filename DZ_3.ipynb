{
 "cells": [
  {
   "cell_type": "code",
   "execution_count": 26,
   "metadata": {},
   "outputs": [
    {
     "name": "stdout",
     "output_type": "stream",
     "text": [
      "t\n"
     ]
    }
   ],
   "source": [
    "#ЗАДАНИЕ 1\n",
    "\n",
    "#Переменная для проверки\n",
    "word = 'testing'\n",
    "\n",
    "#Проверяем количество букв в слове на нечётность\n",
    "if (len(word) % 2) != 0:\n",
    "    #Выводим букву в середине слова - позиция буквы это половина длины слова\n",
    "    print(word[len(word) // 2])\n",
    "else:\n",
    "    #Выводим дву буквы в середине слова - позиция букв это половина длины слова и предыдущая буква\n",
    "    print(word[(len(word) // 2 - 1)] + word[(len(word) // 2)])"
   ]
  },
  {
   "cell_type": "code",
   "execution_count": 34,
   "metadata": {},
   "outputs": [
    {
     "name": "stdout",
     "output_type": "stream",
     "text": [
      "Введите число:\n",
      "1\n",
      "Введите число:\n",
      "3\n",
      "Введите число:\n",
      "5\n",
      "Введите число:\n",
      "1\n",
      "Введите число:\n",
      "0\n",
      "10\n"
     ]
    }
   ],
   "source": [
    "#ЗАДАНИЕ 2\n",
    "\n",
    "#Сумма чисел\n",
    "Summa = 0\n",
    "\n",
    "#Просим ввести первое число\n",
    "Number = int(input('Введите число:\\n'))\n",
    "Summa += Number\n",
    "\n",
    "#Выполняем цикл пока не введём ноль\n",
    "while Number != 0:\n",
    "    #Просим ввести ещё число\n",
    "    Number = int(input('Введите число:\\n'))\n",
    "    Summa += Number\n",
    "print(Summa)"
   ]
  },
  {
   "cell_type": "code",
   "execution_count": 39,
   "metadata": {},
   "outputs": [
    {
     "name": "stdout",
     "output_type": "stream",
     "text": [
      "Идеальные пары:\n",
      "Alex и Emma\n",
      "Arthur и Kate\n",
      "John и Kira\n",
      "Peter и Liza\n",
      "Richard и Trisha\n"
     ]
    }
   ],
   "source": [
    "#ЗАДАНИЕ 3\n",
    "\n",
    "#Cписок парней и девушек\n",
    "boys = ['Peter', 'Alex', 'John', 'Arthur', 'Richard']\n",
    "girls = ['Kate', 'Liza', 'Kira', 'Emma', 'Trisha']\n",
    "\n",
    "#Проверяем равенство количества парней и девушек в списках\n",
    "if len(boys) == len(girls):\n",
    "    #Сортируем имена в списках по алфавиту\n",
    "    boys = sorted(boys)\n",
    "    girls = sorted(girls)\n",
    "    print('Идеальные пары:')\n",
    "    #Перебираем имена по порядку в соответствующих списках\n",
    "    i = 0\n",
    "    for boy in boys:\n",
    "        print(boy + ' и ' + girls[i])\n",
    "        i +=1\n",
    "#Если количество парней и девушек не равно, то знакомить не будем\n",
    "else:\n",
    "    print('Внимание, кто-то может остаться без пары!')"
   ]
  },
  {
   "cell_type": "code",
   "execution_count": 3,
   "metadata": {},
   "outputs": [
    {
     "name": "stdout",
     "output_type": "stream",
     "text": [
      "Thailand  -  23.9 C\n",
      "Germany  -  13.8 C\n",
      "Russia  -  3.7 C\n",
      "Poland  -  12.0 C\n"
     ]
    }
   ],
   "source": [
    "#ЗАДАНИЕ 4\n",
    "\n",
    "#Данные о температурах\n",
    "countries_temperature = [\n",
    "    ['Thailand', [75.2, 77, 78.8, 73.4, 68, 75.2, 77]],\n",
    "    ['Germany', [57.2, 55.4, 59, 59, 53.6]],\n",
    "    ['Russia', [35.6, 37.4, 39.2, 41, 42.8, 39.2, 35.6]],\n",
    "    ['Poland', [50, 50, 53.6, 57.2, 55.4, 55.4]]\n",
    "]\n",
    "\n",
    "#Выбираем данные по одной стране\n",
    "for country_temp in countries_temperature:\n",
    "    #Переменная для хранения суммы температур\n",
    "    temp_sum = 0\n",
    "    #Выбираем температуры и складываем их\n",
    "    for temp in country_temp[1]:\n",
    "        temp_sum += temp\n",
    "    #Делим сумму температур на количество данных, затем переводим фаренгейты в цельсии и выводим результат   \n",
    "    print(country_temp[0] + '  - ', round(((temp_sum / len(country_temp[1]) - 32) * 5 / 9), 1), 'C')"
   ]
  },
  {
   "cell_type": "code",
   "execution_count": 35,
   "metadata": {},
   "outputs": [
    {
     "name": "stdout",
     "output_type": "stream",
     "text": [
      "Среднее количество просмотров на уникального пользователя: 145.33\n"
     ]
    }
   ],
   "source": [
    "#ЗАДАНИЕ 5\n",
    "\n",
    "#Данные о просмотрах страниц для пользователей\n",
    "stream = [\n",
    "    '2018-01-01,user100,150',\n",
    "    '2018-01-07,user99,205',\n",
    "    '2018-03-29,user1001,81'\n",
    "]\n",
    "\n",
    "#Переменные - счётчик пользователей и общая сумма просмотров\n",
    "user = ''\n",
    "i = 0\n",
    "summa = 0\n",
    "#Разбиваем данные на список \n",
    "for data in stream:\n",
    "    summa += int(data.split(',')[2])\n",
    "    #Если имя ользователя не совпадает с предыдущим, то засчитываем его как уникального\n",
    "    if data.split(',')[1] != user:\n",
    "        user = data.split(',')[1]\n",
    "        i += 1\n",
    "print('Среднее количество просмотров на уникального пользователя:', round(summa / i,2)) "
   ]
  },
  {
   "cell_type": "code",
   "execution_count": 21,
   "metadata": {
    "scrolled": false
   },
   "outputs": [
    {
     "name": "stdout",
     "output_type": "stream",
     "text": [
      "Введите числа:\n",
      "10 15 15 103 200 200 200 1 1 1 1 1 2 2 2\n",
      "1 2 15 200\n"
     ]
    }
   ],
   "source": [
    "# ЗАДАНИЕ 6\n",
    "\n",
    "#Необходимо у пользователя запрашивать набор чисел разделенных пробелом\n",
    "raw_numbers = input('Введите числа:\\n').split(' ')\n",
    "\n",
    "#Список с результатами\n",
    "unsorted_list = []\n",
    "\n",
    "#Перебираем элементы по списку\n",
    "for number in raw_numbers:\n",
    "    #Если количество вхождений этого элемента в общей последовательности больше или равно 2 и его нет в списке с результатами\n",
    "    if raw_numbers.count(number) >= 2 and unsorted_list.count(int(number)) == 0:\n",
    "        #То вносим этот элемент в список с результатами\n",
    "        unsorted_list.append(int(number))\n",
    "\n",
    "#Переводим числа в строки и записываем в новый список для вывода на экран\n",
    "out_list = []\n",
    "for i in sorted(unsorted_list):\n",
    "    out_list.append(str(i))\n",
    "print(' '.join(out_list))"
   ]
  }
 ],
 "metadata": {
  "kernelspec": {
   "display_name": "Python 3",
   "language": "python",
   "name": "python3"
  },
  "language_info": {
   "codemirror_mode": {
    "name": "ipython",
    "version": 3
   },
   "file_extension": ".py",
   "mimetype": "text/x-python",
   "name": "python",
   "nbconvert_exporter": "python",
   "pygments_lexer": "ipython3",
   "version": "3.8.5"
  }
 },
 "nbformat": 4,
 "nbformat_minor": 4
}
